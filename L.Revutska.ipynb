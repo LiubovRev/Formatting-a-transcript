{
 "cells": [
  {
   "cell_type": "markdown",
   "id": "34cac2e0-d014-41c0-83d5-681c24495019",
   "metadata": {},
   "source": [
    "# Dev challenge: 2025 Spring Internship"
   ]
  },
  {
   "cell_type": "markdown",
   "id": "b0ee6c1c-0936-4c07-aed8-a2fb4f108ce9",
   "metadata": {},
   "source": [
    "## Problem Statement\n",
    "\n",
    "__Challenge 1: Formatting a transcript__\n",
    "\n",
    "__Task:__\n",
    "You receive an unformatted raw string transcript of a 3-hour\n",
    "meeting. Write an automated tool that processes any transcript and\n",
    "outputs it split by speaker in the following format with this exact\n",
    "indentation:\n",
    "\n",
    "SPEAKER1:\n",
    "\n",
    "        Statement.\n",
    "\n",
    "SPEAKER2:\n",
    "\n",
    "        Statement2.\n",
    "\n",
    "Note: There can be up to 30 different speakers. Explain your approach.\n",
    "\n",
    "Deliverables:\n",
    "- A high-level overview explaining your approach and some pseudo-code.\n",
    "- A brief explanation of the technologies/methodologies used."
   ]
  },
  {
   "cell_type": "markdown",
   "id": "170462e4-8faf-45fd-9730-044af4d6fd39",
   "metadata": {},
   "source": [
    "__Objective__\n",
    "\n",
    "Develop a robust Python function to transform raw, unstructured meeting transcripts into a cleanly formatted, speaker-separated document.\n",
    "- Handle transcripts from 3-hour meetings\n",
    "- Support up to 30 different speakers\n",
    "- Maintain precise speaker order and statement attribution\n",
    "- Create a flexible, efficient parsing algorithm"
   ]
  },
  {
   "cell_type": "markdown",
   "id": "030b669d-1f8e-46a8-8bec-0ee546421729",
   "metadata": {},
   "source": [
    "## Algorithm\n",
    "1) Tokenize the input transcript by replacing \": \" with line breaks\n",
    "2) Iterate through tokens:\n",
    "- When a SPEAKER token is found, start a new speaker section\n",
    "- Add previous speaker's statement if exists\n",
    "- Collect subsequent tokens as the speaker's statement\n",
    "3) Format output with speakers in their original order\n",
    "3) Indent statements under each speaker\n"
   ]
  },
  {
   "cell_type": "markdown",
   "id": "74a4efec-5400-49a0-9285-9b4aeef68739",
   "metadata": {},
   "source": [
    "## Pseudo-code"
   ]
  },
  {
   "cell_type": "code",
   "execution_count": 1,
   "id": "785f76dd-815e-4268-8531-78d27181f3a7",
   "metadata": {},
   "outputs": [],
   "source": [
    "def format_transcript(raw_transcript): \n",
    "    \"\"\"\n",
    "    Formats a raw transcript into speaker-separated statements.\n",
    "    \n",
    "    Args: raw_transcript (str): The raw transcript text to be formatted.\n",
    "    \n",
    "    Returns: str: A formatted transcript with precise speaker separation.\n",
    "    \"\"\"\n",
    "    formatted_lines = []\n",
    "    current_speaker = None\n",
    "    current_statement = []\n",
    "\n",
    "    tokens = raw_transcript.replace(\": \", \":\\n\").split()\n",
    "    \n",
    "    for token in tokens:\n",
    "        if token.startswith(\"SPEAKER\") and token.endswith(\":\"):\n",
    "            if current_speaker and current_statement:\n",
    "                formatted_lines.append(f\"    {' '.join(current_statement)}\")\n",
    "                current_statement = []\n",
    "       \n",
    "            current_speaker = token\n",
    "            formatted_lines.append(f\"{current_speaker}\")\n",
    "        elif current_speaker:\n",
    "            current_statement.append(token)\n",
    " \n",
    "    if current_speaker and current_statement:\n",
    "        formatted_lines.append(f\"    {' '.join(current_statement)}\")\n",
    "    \n",
    "    return \"\\n\".join(formatted_lines)"
   ]
  },
  {
   "cell_type": "markdown",
   "id": "176f65e6-6131-41c0-a47e-e116f4218004",
   "metadata": {},
   "source": [
    "## Testing"
   ]
  },
  {
   "cell_type": "markdown",
   "id": "ad10a371-e83b-40a4-8a3b-0e7fb6ae0d71",
   "metadata": {},
   "source": [
    "### Example 1: basic scenario"
   ]
  },
  {
   "cell_type": "code",
   "execution_count": 2,
   "id": "0b2d6385-dacc-426d-ba7b-36664bd1f581",
   "metadata": {},
   "outputs": [
    {
     "name": "stdout",
     "output_type": "stream",
     "text": [
      "SPEAKER1:\n",
      "    Hello, everyone.\n",
      "SPEAKER2:\n",
      "    Hi!\n"
     ]
    }
   ],
   "source": [
    "example_transcript_1 = \"SPEAKER1: Hello, everyone. SPEAKER2: Hi!\"\n",
    "print(format_transcript(example_transcript_1))"
   ]
  },
  {
   "cell_type": "markdown",
   "id": "b30f7628-089d-49b5-a3cf-079937eb16b2",
   "metadata": {},
   "source": [
    "### Example 2: multiple speakers"
   ]
  },
  {
   "cell_type": "code",
   "execution_count": 3,
   "id": "aa7bdbf4-713d-4cfe-94de-c3f3e877917a",
   "metadata": {},
   "outputs": [
    {
     "name": "stdout",
     "output_type": "stream",
     "text": [
      "SPEAKER1:\n",
      "    Welcome.\n",
      "SPEAKER2:\n",
      "    Thanks.\n",
      "SPEAKER3:\n",
      "    Let's begin.\n"
     ]
    }
   ],
   "source": [
    "example_transcript_2 = \"SPEAKER1: Welcome. SPEAKER2: Thanks. SPEAKER3: Let's begin.\"\n",
    "print(format_transcript(example_transcript_2))"
   ]
  },
  {
   "cell_type": "markdown",
   "id": "af80bae6-7101-45ef-9536-6f184c5f02fa",
   "metadata": {},
   "source": [
    "### Example 3: complex scenario"
   ]
  },
  {
   "cell_type": "code",
   "execution_count": 4,
   "id": "34c2c03e-9f9c-4073-bcac-edd8894bcb6a",
   "metadata": {},
   "outputs": [
    {
     "name": "stdout",
     "output_type": "stream",
     "text": [
      "SPEAKER1:\n",
      "    Initial point.\n",
      "SPEAKER2:\n",
      "    Interesting.\n",
      "SPEAKER1:\n",
      "    Elaborating further.\n",
      "SPEAKER3:\n",
      "    Question?\n"
     ]
    }
   ],
   "source": [
    "example_transcript_3 = \"SPEAKER1: Initial point. SPEAKER2: Interesting. SPEAKER1: Elaborating further. SPEAKER3: Question?\"\n",
    "print(format_transcript(example_transcript_3))"
   ]
  },
  {
   "cell_type": "markdown",
   "id": "6d9b7296-f55b-42b8-b95e-75209d0f021b",
   "metadata": {},
   "source": [
    "## Summary\n",
    "The algorithm efficiently transforms raw, unstructured transcripts into a clean, readable format by dynamically tracking speakers and their statements.\n",
    "\n",
    "__Key Advantages:__\n",
    "\n",
    "- Handles compact, inline transcript formats\n",
    "- Preserves original speaker sequence\n",
    "- Robust to variations in transcript structure\n",
    "\n",
    "__Possible Future Improvements:__\n",
    "\n",
    "- Add error handling for malformed transcripts\n",
    "- Implement configurable speaker detection\n",
    "- Support additional metadata extraction\n",
    "- Create more sophisticated parsing rules"
   ]
  }
 ],
 "metadata": {
  "kernelspec": {
   "display_name": "Python 3 (ipykernel)",
   "language": "python",
   "name": "python3"
  },
  "language_info": {
   "codemirror_mode": {
    "name": "ipython",
    "version": 3
   },
   "file_extension": ".py",
   "mimetype": "text/x-python",
   "name": "python",
   "nbconvert_exporter": "python",
   "pygments_lexer": "ipython3",
   "version": "3.10.12"
  }
 },
 "nbformat": 4,
 "nbformat_minor": 5
}
